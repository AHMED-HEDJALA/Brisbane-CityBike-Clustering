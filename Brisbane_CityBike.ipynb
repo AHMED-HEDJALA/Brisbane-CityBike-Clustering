{
  "nbformat": 4,
  "nbformat_minor": 0,
  "metadata": {
    "colab": {
      "name": "Brisbane_CityBike.ipynb",
      "version": "0.3.2",
      "provenance": [],
      "collapsed_sections": [],
      "include_colab_link": true
    },
    "kernelspec": {
      "name": "python3",
      "display_name": "Python 3"
    }
  },
  "cells": [
    {
      "cell_type": "markdown",
      "metadata": {
        "id": "view-in-github",
        "colab_type": "text"
      },
      "source": [
        "<a href=\"https://colab.research.google.com/github/AHMED-HEDJALA/Brisbane-CityBike-Clustering/blob/master/Brisbane_CityBike.ipynb\" target=\"_parent\"><img src=\"https://colab.research.google.com/assets/colab-badge.svg\" alt=\"Open In Colab\"/></a>"
      ]
    },
    {
      "metadata": {
        "id": "-6wYPtwiwulX",
        "colab_type": "code",
        "colab": {
          "base_uri": "https://localhost:8080/",
          "height": 119
        },
        "outputId": "728034c4-9d13-4786-e46f-1c97a9f9ad1d"
      },
      "cell_type": "code",
      "source": [
        "!git clone https://github.com/AHMED-HEDJALA/Brisbane-CityBike-Clustering.git"
      ],
      "execution_count": 1,
      "outputs": [
        {
          "output_type": "stream",
          "text": [
            "Cloning into 'Brisbane-CityBike-Clustering'...\n",
            "remote: Enumerating objects: 6, done.\u001b[K\n",
            "remote: Counting objects: 100% (6/6), done.\u001b[K\n",
            "remote: Compressing objects: 100% (4/4), done.\u001b[K\n",
            "remote: Total 6 (delta 0), reused 0 (delta 0), pack-reused 0\u001b[K\n",
            "Unpacking objects: 100% (6/6), done.\n"
          ],
          "name": "stdout"
        }
      ]
    },
    {
      "metadata": {
        "id": "Z9dOjRHDxOCL",
        "colab_type": "code",
        "colab": {
          "base_uri": "https://localhost:8080/",
          "height": 34
        },
        "outputId": "324d3145-fb32-4ce7-e691-b8e0b8f937e6"
      },
      "cell_type": "code",
      "source": [
        "cd Brisbane-CityBike-Clustering/"
      ],
      "execution_count": 3,
      "outputs": [
        {
          "output_type": "stream",
          "text": [
            "/content/Brisbane-CityBike-Clustering\n"
          ],
          "name": "stdout"
        }
      ]
    },
    {
      "metadata": {
        "id": "rbvVn4GlxT-V",
        "colab_type": "code",
        "colab": {
          "base_uri": "https://localhost:8080/",
          "height": 2176
        },
        "outputId": "78264baa-d341-4034-bc40-6129dd63f5a3"
      },
      "cell_type": "code",
      "source": [
        "import pandas as pd\n",
        "\n",
        "dataset = 'Brisbane_CityBike.json'\n",
        "\n",
        "x = pd.read_json(dataset)\n",
        "\n",
        "x.head()\n",
        "print(x)"
      ],
      "execution_count": 5,
      "outputs": [
        {
          "output_type": "stream",
          "text": [
            "                                          address   latitude   longitude  \\\n",
            "0                      Lower River Tce / Ellis St -27.482279  153.028723   \n",
            "1                            Main St / Darragh St -27.470590  153.036046   \n",
            "2                 Sydney St Ferry Terminal / Park -27.474531  153.042728   \n",
            "3                            Browne St / James St -27.461881  153.046986   \n",
            "4                     Kurilpa Point / Montague Rd -27.469658  153.016696   \n",
            "5                        Montague Rd / Skinner St -27.481720  153.004360   \n",
            "6                      Macquarie St / Guyatt Park -27.493626  153.001482   \n",
            "7               Bi-centennial Bike Way / Lang Pde -27.476076  153.002459   \n",
            "8    Sir William McGregor Dr / Sir Fred Schonnell -27.493963  153.011938   \n",
            "9                         Vulture St / Tribune St -27.482197  153.020894   \n",
            "10                    Lamington St / Refinery Pde -27.465226  153.050864   \n",
            "11                           King George Square 2 -27.468447  153.024662   \n",
            "12                            Mary St / George St -27.473021  153.025988   \n",
            "13                         McLachlan St / Winn St -27.457825  153.036866   \n",
            "14                                  Grey St / QCA -27.481480  153.023680   \n",
            "15                            Roma St / Turbot St -27.467464  153.022094   \n",
            "16                         Thynne Rd / College Rd -27.499963  153.017633   \n",
            "17                      Sandford St / Brisbane St -27.490776  152.994747   \n",
            "18                         James St / Harcourt St -27.458199  153.041688   \n",
            "19                   Sidon St / Little Stanley St -27.481808  153.025477   \n",
            "20       Commercial Rd / Teneriffe Ferry Terminal -27.452027  153.049110   \n",
            "21                        Turbot St / Wickham Tce -27.464628  153.026863   \n",
            "22                          Alden St / Wickham St -27.456085  153.034530   \n",
            "23                         Roma St / Makerston St -27.466370  153.018506   \n",
            "24                        Macquarie St / Munro St -27.492876  153.006071   \n",
            "25                       Barker St / Brunswick St -27.464681  153.042561   \n",
            "26                         Malt St / Brunswick St -27.461041  153.037902   \n",
            "27                   Chermside St / Commercial Rd -27.454482  153.046802   \n",
            "28                         Queen St / Adelaide St -27.463405  153.031142   \n",
            "29                    Constance St / St Pauls Tce -27.453717  153.034042   \n",
            "..                                            ...        ...         ...   \n",
            "119                   Commercial Rd / Skyring Tce -27.452960  153.048107   \n",
            "120                      Jephson St / Sherwood Rd -27.485075  152.990627   \n",
            "121                      Sandford St / Austral St -27.492489  152.996768   \n",
            "122                         Brisbane St / Glen Rd -27.487187  152.993052   \n",
            "123                        Wharf St / Adelaide St -27.464647  153.029361   \n",
            "124                          Edward St / Queen St -27.468206  153.026744   \n",
            "125                Gardens Point Rd / Adj. Bridge -27.479004  153.028853   \n",
            "126                          Alice St / Edward St -27.472291  153.030639   \n",
            "127                     Sylvan Rd / Coronation Dr -27.482081  152.995804   \n",
            "128                   Russell St / Edmondstone St -27.478235  153.015173   \n",
            "129                       Shafston Ave / Thorn St -27.476792  153.039186   \n",
            "130                         Cordelia St / Peel St -27.474011  153.014541   \n",
            "131                              East St / Ann St -27.455472  153.037775   \n",
            "132                        Bridge St / Wickham St -27.454746  153.036154   \n",
            "133                           Tank St / George St -27.468678  153.019801   \n",
            "134                          Sydney St / Moray St -27.471422  153.045190   \n",
            "135                             Ann St / Wharf St -27.463830  153.029125   \n",
            "136                    Griffith St / Riverview Ct -27.471886  153.041854   \n",
            "137                     Hardgrave Rd / Skinner St -27.482082  153.006981   \n",
            "138                        Makerston St / Roma St -27.467037  153.018471   \n",
            "139                      Bouquet St / Montague Rd -27.471712  153.013188   \n",
            "140                  Albert St Mall / Adelaide St -27.469183  153.024719   \n",
            "141                          Roma St / Garrick St -27.466307  153.017351   \n",
            "142                         Kilroe St / Dorsey St -27.472413  153.001803   \n",
            "143                     Balfour St / Brunswick St -27.463431  153.041031   \n",
            "144                        38 - Ann St / Creek St -27.465880  153.026861   \n",
            "145                 Albert St Mall / Elizabeth St -27.470110  153.025627   \n",
            "146                          Turbot St / Bowen St -27.462665  153.029087   \n",
            "147                          Edward St / Queen St -27.468120  153.026820   \n",
            "148                       Cordelia St / Ernest St -27.481137  153.019284   \n",
            "\n",
            "                                                  name  number  \n",
            "0                     122 - LOWER RIVER TCE / ELLIS ST     122  \n",
            "1                            91 - MAIN ST / DARRAGH ST      91  \n",
            "2                 88 - SYDNEY ST FERRY TERMINAL / PARK      88  \n",
            "3                            75 - BROWNE ST / JAMES ST      75  \n",
            "4                     98 - KURILPA POINT / MONTAGUE RD      98  \n",
            "5                       109 - MONTAGUE RD / SKINNER ST     109  \n",
            "6                     149 - MACQUARIE ST / GUYATT PARK     149  \n",
            "7              139 - BI-CENTENNIAL BIKE WAY / LANG PDE     139  \n",
            "8    24 - SIR WILLIAM MCGREGOR DR / SIR FRED SCHONNELL      24  \n",
            "9                        117 - VULTURE ST / TRIBUNE ST     117  \n",
            "10                    73 - LAMINGTON ST / REFINERY PDE      73  \n",
            "11                         1101 - KING GEORGE SQUARE 2    1101  \n",
            "12                    23 - MARY STREET / GEORGE STREET      23  \n",
            "13                         54 - MCLACHLAN ST / WINN ST      54  \n",
            "14                                  93 - GREY ST / QCA      93  \n",
            "15                            31 - ROMA ST / TURBOT ST      31  \n",
            "16                         97 - THYNNE RD / COLLEGE RD      97  \n",
            "17                     147 - SANDFORD ST / BRISBANE ST     147  \n",
            "18                         77 - JAMES ST / HARCOURT ST      77  \n",
            "19                  119 - SIDON ST / LITTLE STANLEY ST     119  \n",
            "20       67 - COMMERCIAL RD / TENERIFFE FERRY TERMINAL      67  \n",
            "21                        39 - TURBOT ST / WICKHAM TCE      39  \n",
            "22                          55 - ALDEN ST / WICKHAM ST      55  \n",
            "23                 35 - ROMA STREET / MAKERSTON STREET      35  \n",
            "24                       150 - MACQUARIE ST / MUNRO ST     150  \n",
            "25                       80 - BARKER ST / BRUNSWICK ST      80  \n",
            "26                         78 - MALT ST / BRUNSWICK ST      78  \n",
            "27                   65 - CHERMSIDE ST / COMMERCIAL RD      65  \n",
            "28                 44 - QUEEN STREET / ADELAIDE STREET      44  \n",
            "29                    56 - CONSTANCE ST / ST PAULS TCE      56  \n",
            "..                                                 ...     ...  \n",
            "119                   66 - COMMERCIAL RD / SKYRING TCE      66  \n",
            "120                     144 - JEPHSON ST / SHERWOOD RD     144  \n",
            "121                     148 - SANDFORD ST / AUSTRAL ST     148  \n",
            "122                        146 - BRISBANE ST / GLEN RD     146  \n",
            "123                42 - WHARF STREET / ADELAIDE STREET      42  \n",
            "124                  10 - EDWARD STREET / QUEEN STREET      10  \n",
            "125              19 - GARDENS POINT ROAD / ADJ. BRIDGE      19  \n",
            "126                   6 - ALICE STREET / EDWARD STREET       6  \n",
            "127                    142 - SYLVAN RD / CORONATION DR     142  \n",
            "128                  101 - RUSSELL ST / EDMONDSTONE ST     101  \n",
            "129                      131 - SHAFSTON AVE / THORN ST     131  \n",
            "130                         99 - CORDELIA ST / PEEL ST      99  \n",
            "131                              58 - EAST ST / ANN ST      58  \n",
            "132                        57 - BRIDGE ST / WICKHAM ST      57  \n",
            "133                           32 - TANK ST / GEORGE ST      32  \n",
            "134                          86 - SYDNEY ST / MORAY ST      86  \n",
            "135                             41 - ANN ST / WHARF ST      41  \n",
            "136                    81 - GRIFFITH ST / RIVERVIEW CT      81  \n",
            "137                    104 - HARDGRAVE RD / SKINNER ST     104  \n",
            "138                        34 - MAKERSTON ST / ROMA ST      34  \n",
            "139                     128 - BOUQUET ST / MONTAGUE RD     128  \n",
            "140          13 - ALBERT STREET MALL / ADELAIDE STREET      13  \n",
            "141                  36 - ROMA STREET / GARRICK STREET      36  \n",
            "142                        137 - KILROE ST / DORSEY ST     137  \n",
            "143                     79 - BALFOUR ST / BRUNSWICK ST      79  \n",
            "144                             38 - ANN ST / CREEK ST      38  \n",
            "145         14 - ALBERT STREET MALL / ELIZABETH STREET      14  \n",
            "146                          45 - TURBOT ST / BOWEN ST      45  \n",
            "147                           1 - EDWARD ST / QUEEN ST       1  \n",
            "148                      116 - CORDELIA ST / ERNEST ST     116  \n",
            "\n",
            "[149 rows x 5 columns]\n"
          ],
          "name": "stdout"
        }
      ]
    },
    {
      "metadata": {
        "id": "vi28onQbxxmu",
        "colab_type": "code",
        "colab": {}
      },
      "cell_type": "code",
      "source": [
        "#import des librairies l'environnement\n",
        "import pandas as pd\n",
        "import numpy as np\n",
        "import sklearn.metrics as sm\n",
        "import matplotlib.pyplot as plt\n",
        "from sklearn.cluster import KMeans\n",
        "from sklearn import datasets"
      ],
      "execution_count": 0,
      "outputs": []
    },
    {
      "metadata": {
        "id": "mS9-_NiMzSOc",
        "colab_type": "code",
        "colab": {
          "base_uri": "https://localhost:8080/",
          "height": 119
        },
        "outputId": "4b063189-ff87-4e7d-8da1-263a6d733b60"
      },
      "cell_type": "code",
      "source": [
        "df = x[['latitude','longitude']]\n",
        "print(df.head())"
      ],
      "execution_count": 9,
      "outputs": [
        {
          "output_type": "stream",
          "text": [
            "    latitude   longitude\n",
            "0 -27.482279  153.028723\n",
            "1 -27.470590  153.036046\n",
            "2 -27.474531  153.042728\n",
            "3 -27.461881  153.046986\n",
            "4 -27.469658  153.016696\n"
          ],
          "name": "stdout"
        }
      ]
    },
    {
      "metadata": {
        "id": "n5_qXZH50DPS",
        "colab_type": "code",
        "colab": {
          "base_uri": "https://localhost:8080/",
          "height": 68
        },
        "outputId": "b66256e6-c5ab-4568-d543-9e8a9d154fbf"
      },
      "cell_type": "code",
      "source": [
        "#Cluster K-means\n",
        "model=KMeans(n_clusters=10)\n",
        "#adapter le modèle de données\n",
        "model.fit(df)"
      ],
      "execution_count": 15,
      "outputs": [
        {
          "output_type": "execute_result",
          "data": {
            "text/plain": [
              "KMeans(algorithm='auto', copy_x=True, init='k-means++', max_iter=300,\n",
              "    n_clusters=10, n_init=10, n_jobs=None, precompute_distances='auto',\n",
              "    random_state=None, tol=0.0001, verbose=0)"
            ]
          },
          "metadata": {
            "tags": []
          },
          "execution_count": 15
        }
      ]
    },
    {
      "metadata": {
        "id": "JstP2FHA0Mj0",
        "colab_type": "code",
        "colab": {
          "base_uri": "https://localhost:8080/",
          "height": 102
        },
        "outputId": "efdd0818-7a7d-43b5-c528-c1214a7f3641"
      },
      "cell_type": "code",
      "source": [
        "print(model.labels_)"
      ],
      "execution_count": 16,
      "outputs": [
        {
          "output_type": "stream",
          "text": [
            "[5 2 3 3 4 1 7 9 8 5 3 2 2 0 5 4 8 7 6 5 6 2 0 4 7 3 0 6 2 0 0 4 9 6 9 0 0\n",
            " 9 2 0 5 2 2 2 2 2 3 9 7 3 7 5 2 8 9 0 5 4 6 4 3 3 2 7 3 0 0 8 6 3 2 6 1 1\n",
            " 8 1 2 9 4 2 6 2 1 4 0 8 4 5 6 1 4 6 2 4 6 9 7 1 0 2 7 2 2 4 4 1 3 5 3 5 1\n",
            " 1 1 2 5 7 1 6 0 6 7 7 7 2 2 5 2 7 1 3 4 0 0 4 3 2 3 1 4 4 2 4 9 3 2 2 2 2\n",
            " 5]\n"
          ],
          "name": "stdout"
        }
      ]
    },
    {
      "metadata": {
        "id": "4NheKYgW0OKl",
        "colab_type": "code",
        "colab": {
          "base_uri": "https://localhost:8080/",
          "height": 375
        },
        "outputId": "028b27d0-e93d-446c-a67a-de16923a4a46"
      },
      "cell_type": "code",
      "source": [
        "plt.scatter(df.latitude, df.longitude)"
      ],
      "execution_count": 17,
      "outputs": [
        {
          "output_type": "execute_result",
          "data": {
            "text/plain": [
              "<matplotlib.collections.PathCollection at 0x7fd9b09679b0>"
            ]
          },
          "metadata": {
            "tags": []
          },
          "execution_count": 17
        },
        {
          "output_type": "display_data",
          "data": {
            "image/png": "[encoded data removed]",
            "text/plain": [
              "<Figure size 576x396 with 1 Axes>"
            ]
          },
          "metadata": {
            "tags": []
          }
        }
      ]
    },
    {
      "metadata": {
        "id": "9ZVBv4uz0k27",
        "colab_type": "code",
        "colab": {
          "base_uri": "https://localhost:8080/",
          "height": 375
        },
        "outputId": "e57bb991-d062-4c11-af1f-6e708d878dd1"
      },
      "cell_type": "code",
      "source": [
        "colormap=np.array(['Red','green','blue', 'gold', 'yellow','plum', 'olive','moccasin','khaki', 'black'])\n",
        "plt.scatter(df.latitude, df.longitude,s=40)\n",
        "plt.scatter(df.latitude, df.longitude,c=colormap[model.labels_],s=40)"
      ],
      "execution_count": 23,
      "outputs": [
        {
          "output_type": "execute_result",
          "data": {
            "text/plain": [
              "<matplotlib.collections.PathCollection at 0x7fd9b06545f8>"
            ]
          },
          "metadata": {
            "tags": []
          },
          "execution_count": 23
        },
        {
          "output_type": "display_data",
          "data": {
            "image/png": "[encoded data removed]",
            "text/plain": [
              "<Figure size 576x396 with 1 Axes>"
            ]
          },
          "metadata": {
            "tags": []
          }
        }
      ]
    }
  ]
}